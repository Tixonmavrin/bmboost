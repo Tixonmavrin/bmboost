{
  "nbformat": 4,
  "nbformat_minor": 0,
  "metadata": {
    "colab": {
      "name": "Untitled46.ipynb",
      "provenance": []
    },
    "kernelspec": {
      "name": "python3",
      "display_name": "Python 3"
    }
  },
  "cells": [
    {
      "cell_type": "code",
      "metadata": {
        "id": "bQoy67qrKxl2",
        "colab_type": "code",
        "colab": {}
      },
      "source": [
        "!git clone https://github.com/Tixonmavrin/bmboost"
      ],
      "execution_count": 0,
      "outputs": []
    },
    {
      "cell_type": "code",
      "metadata": {
        "id": "Ma3lbpXESddo",
        "colab_type": "code",
        "colab": {
          "base_uri": "https://localhost:8080/",
          "height": 34
        },
        "outputId": "4740270f-4f27-42e5-ac4c-edae11fad9d6"
      },
      "source": [
        "cd /content/bmboost/bmboost"
      ],
      "execution_count": 21,
      "outputs": [
        {
          "output_type": "stream",
          "text": [
            "/content/bmboost/bmboost\n"
          ],
          "name": "stdout"
        }
      ]
    },
    {
      "cell_type": "code",
      "metadata": {
        "id": "wor2oBBKSiPC",
        "colab_type": "code",
        "colab": {}
      },
      "source": [
        "from gbm import Bmboost\n",
        "from sklearn import datasets\n",
        "import pandas as pd\n",
        "import numpy as np\n",
        "import xgboost as xgb\n",
        "from sklearn.metrics import f1_score"
      ],
      "execution_count": 0,
      "outputs": []
    },
    {
      "cell_type": "code",
      "metadata": {
        "id": "A-15aUwBYtwm",
        "colab_type": "code",
        "colab": {
          "base_uri": "https://localhost:8080/",
          "height": 34
        },
        "outputId": "6c54fea0-9820-4e94-bff1-98a1d83d69c1"
      },
      "source": [
        "digits = datasets.load_breast_cancer()\n",
        "split = int(digits.data.shape[0]*0.8)\n",
        "\n",
        "train_X = digits.data[:split]\n",
        "train_y = digits.target[:split]\n",
        "val_X = digits.data[split:]\n",
        "val_y = digits.target[split:]\n",
        "\n",
        "print(train_X.shape, val_X.shape)"
      ],
      "execution_count": 23,
      "outputs": [
        {
          "output_type": "stream",
          "text": [
            "(455, 30) (114, 30)\n"
          ],
          "name": "stdout"
        }
      ]
    },
    {
      "cell_type": "code",
      "metadata": {
        "id": "X-0pH7i3vTZn",
        "colab_type": "code",
        "colab": {}
      },
      "source": [
        "params_xgboost = {'booster':'gbtree',\n",
        "          'objective': 'binary:logistic',\n",
        "          'eta': 0.3,\n",
        "          'max_depth': 7,\n",
        "          'num_boost_round': 10000,\n",
        "          'scale_pos_weight': 1.0,\n",
        "          'subsample': 0.8,\n",
        "          'colsample_bytree': 0.8,\n",
        "          'colsample_bylevel': 1.0,\n",
        "          'min_sample_split': 50,\n",
        "          'min_child_weight': 1,\n",
        "          'lambda': 1,\n",
        "          'gamma': 0.01,\n",
        "          'eval_metric': \"error\",\n",
        "          'maximize': False,\n",
        "          'early_stopping_rounds':20}\n",
        "\n",
        "model = xgb.train(params_xgboost, xgb_dtr)\n",
        "predict_xgb = model.predict(xgb_dte)"
      ],
      "execution_count": 0,
      "outputs": []
    },
    {
      "cell_type": "code",
      "metadata": {
        "id": "QyXAVE5BvVi8",
        "colab_type": "code",
        "colab": {}
      },
      "source": [
        "params_bmb = {'loss': \"logisticloss\",\n",
        "          'eta': 0.3,\n",
        "          'max_depth': 6,\n",
        "          'num_boost_round': 100,\n",
        "          'scale_pos_weight': 1.0,\n",
        "          'subsample': 0.8,\n",
        "          'colsample': 0.8,\n",
        "          'min_sample_split': 50,\n",
        "          'min_child_weight': 1,\n",
        "          'reg_lambda': 1,\n",
        "          'gamma': 0.1,\n",
        "          'eval_metric': \"error\",\n",
        "          'early_stopping_rounds': 20,\n",
        "          'maximize': False,\n",
        "          'num_thread':-1}"
      ],
      "execution_count": 0,
      "outputs": []
    },
    {
      "cell_type": "code",
      "metadata": {
        "id": "2Da0inS_LScX",
        "colab_type": "code",
        "colab": {
          "base_uri": "https://localhost:8080/",
          "height": 1000
        },
        "outputId": "69deb55e-b928-4a6d-c23d-40c092bb3245"
      },
      "source": [
        "bmb = Bmboost()\n",
        "bmb.fit(train_X,train_y,**params_bmb)"
      ],
      "execution_count": 26,
      "outputs": [
        {
          "output_type": "stream",
          "text": [
            "[22:42:48] : BmBoost start training\n",
            "[22:42:50] : BmBoost round 0, train-error: 0.0484\n",
            "[22:42:52] : BmBoost round 1, train-error: 0.0352\n",
            "[22:42:54] : BmBoost round 2, train-error: 0.0352\n",
            "[22:42:56] : BmBoost round 3, train-error: 0.0330\n",
            "[22:42:57] : BmBoost round 4, train-error: 0.0330\n",
            "[22:42:59] : BmBoost round 5, train-error: 0.0330\n",
            "[22:43:01] : BmBoost round 6, train-error: 0.0374\n",
            "[22:43:03] : BmBoost round 7, train-error: 0.0330\n",
            "[22:43:05] : BmBoost round 8, train-error: 0.0308\n",
            "[22:43:06] : BmBoost round 9, train-error: 0.0308\n",
            "[22:43:08] : BmBoost round 10, train-error: 0.0242\n",
            "[22:43:10] : BmBoost round 11, train-error: 0.0242\n",
            "[22:43:12] : BmBoost round 12, train-error: 0.0242\n",
            "[22:43:13] : BmBoost round 13, train-error: 0.0264\n",
            "[22:43:15] : BmBoost round 14, train-error: 0.0264\n",
            "[22:43:17] : BmBoost round 15, train-error: 0.0264\n",
            "[22:43:19] : BmBoost round 16, train-error: 0.0220\n",
            "[22:43:20] : BmBoost round 17, train-error: 0.0220\n",
            "[22:43:22] : BmBoost round 18, train-error: 0.0220\n",
            "[22:43:24] : BmBoost round 19, train-error: 0.0220\n",
            "[22:43:26] : BmBoost round 20, train-error: 0.0220\n",
            "[22:43:27] : BmBoost round 21, train-error: 0.0220\n",
            "[22:43:29] : BmBoost round 22, train-error: 0.0176\n",
            "[22:43:31] : BmBoost round 23, train-error: 0.0176\n",
            "[22:43:32] : BmBoost round 24, train-error: 0.0154\n",
            "[22:43:34] : BmBoost round 25, train-error: 0.0154\n",
            "[22:43:35] : BmBoost round 26, train-error: 0.0198\n",
            "[22:43:37] : BmBoost round 27, train-error: 0.0198\n",
            "[22:43:39] : BmBoost round 28, train-error: 0.0198\n",
            "[22:43:41] : BmBoost round 29, train-error: 0.0198\n",
            "[22:43:43] : BmBoost round 30, train-error: 0.0198\n",
            "[22:43:44] : BmBoost round 31, train-error: 0.0198\n",
            "[22:43:46] : BmBoost round 32, train-error: 0.0198\n",
            "[22:43:48] : BmBoost round 33, train-error: 0.0198\n",
            "[22:43:49] : BmBoost round 34, train-error: 0.0176\n",
            "[22:43:51] : BmBoost round 35, train-error: 0.0176\n",
            "[22:43:52] : BmBoost round 36, train-error: 0.0176\n",
            "[22:43:54] : BmBoost round 37, train-error: 0.0154\n",
            "[22:43:56] : BmBoost round 38, train-error: 0.0154\n",
            "[22:43:58] : BmBoost round 39, train-error: 0.0154\n",
            "[22:43:59] : BmBoost round 40, train-error: 0.0176\n",
            "[22:44:01] : BmBoost round 41, train-error: 0.0176\n",
            "[22:44:02] : BmBoost round 42, train-error: 0.0176\n",
            "[22:44:04] : BmBoost round 43, train-error: 0.0198\n",
            "[22:44:06] : BmBoost round 44, train-error: 0.0198\n",
            "[22:44:08] : BmBoost round 45, train-error: 0.0154\n",
            "[22:44:09] : BmBoost round 46, train-error: 0.0154\n",
            "[22:44:11] : BmBoost round 47, train-error: 0.0176\n",
            "[22:44:13] : BmBoost round 48, train-error: 0.0198\n",
            "[22:44:14] : BmBoost round 49, train-error: 0.0176\n",
            "[22:44:16] : BmBoost round 50, train-error: 0.0198\n",
            "[22:44:18] : BmBoost round 51, train-error: 0.0198\n",
            "[22:44:20] : BmBoost round 52, train-error: 0.0198\n",
            "[22:44:21] : BmBoost round 53, train-error: 0.0198\n",
            "[22:44:23] : BmBoost round 54, train-error: 0.0198\n",
            "[22:44:24] : BmBoost round 55, train-error: 0.0176\n",
            "[22:44:26] : BmBoost round 56, train-error: 0.0176\n",
            "[22:44:28] : BmBoost round 57, train-error: 0.0176\n",
            "[22:44:29] : BmBoost round 58, train-error: 0.0176\n",
            "[22:44:31] : BmBoost round 59, train-error: 0.0176\n",
            "[22:44:33] : BmBoost round 60, train-error: 0.0176\n",
            "[22:44:34] : BmBoost round 61, train-error: 0.0176\n",
            "[22:44:36] : BmBoost round 62, train-error: 0.0176\n",
            "[22:44:38] : BmBoost round 63, train-error: 0.0176\n",
            "[22:44:39] : BmBoost round 64, train-error: 0.0176\n",
            "[22:44:41] : BmBoost round 65, train-error: 0.0176\n",
            "[22:44:43] : BmBoost round 66, train-error: 0.0176\n",
            "[22:44:45] : BmBoost round 67, train-error: 0.0176\n",
            "[22:44:46] : BmBoost round 68, train-error: 0.0176\n",
            "[22:44:48] : BmBoost round 69, train-error: 0.0176\n",
            "[22:44:50] : BmBoost round 70, train-error: 0.0176\n",
            "[22:44:51] : BmBoost round 71, train-error: 0.0176\n",
            "[22:44:53] : BmBoost round 72, train-error: 0.0176\n",
            "[22:44:55] : BmBoost round 73, train-error: 0.0176\n",
            "[22:44:56] : BmBoost round 74, train-error: 0.0176\n",
            "[22:44:58] : BmBoost round 75, train-error: 0.0176\n",
            "[22:45:00] : BmBoost round 76, train-error: 0.0176\n",
            "[22:45:01] : BmBoost round 77, train-error: 0.0176\n",
            "[22:45:03] : BmBoost round 78, train-error: 0.0176\n",
            "[22:45:05] : BmBoost round 79, train-error: 0.0176\n",
            "[22:45:06] : BmBoost round 80, train-error: 0.0176\n",
            "[22:45:08] : BmBoost round 81, train-error: 0.0176\n",
            "[22:45:10] : BmBoost round 82, train-error: 0.0176\n",
            "[22:45:11] : BmBoost round 83, train-error: 0.0176\n",
            "[22:45:13] : BmBoost round 84, train-error: 0.0176\n",
            "[22:45:15] : BmBoost round 85, train-error: 0.0176\n",
            "[22:45:16] : BmBoost round 86, train-error: 0.0176\n",
            "[22:45:18] : BmBoost round 87, train-error: 0.0176\n",
            "[22:45:20] : BmBoost round 88, train-error: 0.0176\n",
            "[22:45:21] : BmBoost round 89, train-error: 0.0154\n",
            "[22:45:23] : BmBoost round 90, train-error: 0.0154\n",
            "[22:45:24] : BmBoost round 91, train-error: 0.0154\n",
            "[22:45:26] : BmBoost round 92, train-error: 0.0154\n",
            "[22:45:28] : BmBoost round 93, train-error: 0.0154\n",
            "[22:45:29] : BmBoost round 94, train-error: 0.0154\n",
            "[22:45:31] : BmBoost round 95, train-error: 0.0154\n",
            "[22:45:33] : BmBoost round 96, train-error: 0.0154\n",
            "[22:45:34] : BmBoost round 97, train-error: 0.0154\n",
            "[22:45:36] : BmBoost round 98, train-error: 0.0154\n",
            "[22:45:37] : BmBoost round 99, train-error: 0.0154\n"
          ],
          "name": "stderr"
        }
      ]
    },
    {
      "cell_type": "code",
      "metadata": {
        "id": "lrCI3-egnI9I",
        "colab_type": "code",
        "colab": {}
      },
      "source": [
        "predict_bmb = bmb.predict(val_X)"
      ],
      "execution_count": 0,
      "outputs": []
    },
    {
      "cell_type": "code",
      "metadata": {
        "id": "uVMPAKs1rYZQ",
        "colab_type": "code",
        "colab": {
          "base_uri": "https://localhost:8080/",
          "height": 34
        },
        "outputId": "a56f2e42-ef3e-4f30-fb84-31a7766e4981"
      },
      "source": [
        "f1_score(val_y, np.round(predict_xgb))"
      ],
      "execution_count": 28,
      "outputs": [
        {
          "output_type": "execute_result",
          "data": {
            "text/plain": [
              "0.9767441860465117"
            ]
          },
          "metadata": {
            "tags": []
          },
          "execution_count": 28
        }
      ]
    },
    {
      "cell_type": "code",
      "metadata": {
        "id": "aXifRfDrropG",
        "colab_type": "code",
        "colab": {
          "base_uri": "https://localhost:8080/",
          "height": 34
        },
        "outputId": "941ff5e3-73d5-4387-bf07-41b91b7f2fd3"
      },
      "source": [
        "f1_score(val_y, np.round(predict_bmb))"
      ],
      "execution_count": 29,
      "outputs": [
        {
          "output_type": "execute_result",
          "data": {
            "text/plain": [
              "0.9826589595375723"
            ]
          },
          "metadata": {
            "tags": []
          },
          "execution_count": 29
        }
      ]
    },
    {
      "cell_type": "code",
      "metadata": {
        "id": "aXWwncjAzdNz",
        "colab_type": "code",
        "colab": {}
      },
      "source": [
        ""
      ],
      "execution_count": 0,
      "outputs": []
    }
  ]
}