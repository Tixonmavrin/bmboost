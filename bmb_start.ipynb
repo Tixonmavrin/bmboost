{
  "nbformat": 4,
  "nbformat_minor": 0,
  "metadata": {
    "colab": {
      "name": "Untitled46.ipynb",
      "provenance": []
    },
    "kernelspec": {
      "name": "python3",
      "display_name": "Python 3"
    }
  },
  "cells": [
    {
      "cell_type": "code",
      "metadata": {
        "id": "bQoy67qrKxl2",
        "colab_type": "code",
        "colab": {}
      },
      "source": [
        "!git clone https://github.com/Tixonmavrin/bmboost"
      ],
      "execution_count": 0,
      "outputs": []
    },
    {
      "cell_type": "code",
      "metadata": {
        "id": "Ma3lbpXESddo",
        "colab_type": "code",
        "colab": {
          "base_uri": "https://localhost:8080/",
          "height": 34
        },
        "outputId": "c6d39b4d-5b39-4530-d7bc-c36d141e2624"
      },
      "source": [
        "cd /content/bmboost/tgboost"
      ],
      "execution_count": 60,
      "outputs": [
        {
          "output_type": "stream",
          "text": [
            "/content/bmboost/tgboost\n"
          ],
          "name": "stdout"
        }
      ]
    },
    {
      "cell_type": "code",
      "metadata": {
        "id": "wor2oBBKSiPC",
        "colab_type": "code",
        "colab": {}
      },
      "source": [
        "from gbm import TGBoost\n",
        "from sklearn import datasets\n",
        "import pandas as pd\n",
        "import numpy as np\n",
        "import xgboost as xgb\n",
        "from sklearn.metrics import f1_score"
      ],
      "execution_count": 0,
      "outputs": []
    },
    {
      "cell_type": "code",
      "metadata": {
        "id": "A-15aUwBYtwm",
        "colab_type": "code",
        "colab": {
          "base_uri": "https://localhost:8080/",
          "height": 34
        },
        "outputId": "f147e954-9aba-482c-f18a-c9bbd3f28e3e"
      },
      "source": [
        "digits = datasets.load_breast_cancer()\n",
        "split = int(digits.data.shape[0]*0.8)\n",
        "\n",
        "train_X = digits.data[:split]\n",
        "train_y = digits.target[:split]\n",
        "val_X = digits.data[split:]\n",
        "val_y = digits.target[split:]\n",
        "\n",
        "print(train_X.shape, val_X.shape)"
      ],
      "execution_count": 70,
      "outputs": [
        {
          "output_type": "stream",
          "text": [
            "(455, 30) (114, 30)\n"
          ],
          "name": "stdout"
        }
      ]
    },
    {
      "cell_type": "code",
      "metadata": {
        "id": "zG4DSt9CoD2f",
        "colab_type": "code",
        "colab": {}
      },
      "source": [
        "xgb_dtr = xgb.DMatrix(train_X, label=train_y)\n",
        "xgb_dte = xgb.DMatrix(val_X, label=val_y)\n",
        "model = xgb.train(params, xgb_dtr)\n",
        "predict_xgb = model.predict(xgb_dte)"
      ],
      "execution_count": 0,
      "outputs": []
    },
    {
      "cell_type": "code",
      "metadata": {
        "id": "X-0pH7i3vTZn",
        "colab_type": "code",
        "colab": {}
      },
      "source": [
        "params_xgboost = {'booster':'gbtree',\n",
        "          'objective': 'binary:logistic',\n",
        "          'eta': 0.3,\n",
        "          'max_depth': 7,\n",
        "          'num_boost_round': 10000,\n",
        "          'scale_pos_weight': 1.0,\n",
        "          'subsample': 0.8,\n",
        "          'colsample_bytree': 0.8,\n",
        "          'colsample_bylevel': 1.0,\n",
        "          'min_sample_split': 50,\n",
        "          'min_child_weight': 1,\n",
        "          'lambda': 1,\n",
        "          'gamma': 0.01,\n",
        "          'eval_metric': \"error\",\n",
        "          'maximize': False,\n",
        "          'early_stopping_rounds':20}\n",
        "\n",
        "model = xgb.train(params_xgboost, xgb_dtr)"
      ],
      "execution_count": 0,
      "outputs": []
    },
    {
      "cell_type": "code",
      "metadata": {
        "id": "QyXAVE5BvVi8",
        "colab_type": "code",
        "colab": {}
      },
      "source": [
        "params_bmb = {'loss': \"logisticloss\",\n",
        "          'eta': 0.3,\n",
        "          'max_depth': 6,\n",
        "          'num_boost_round': 50,\n",
        "          'scale_pos_weight': 1.0,\n",
        "          'subsample': 0.8,\n",
        "          'colsample': 0.8,\n",
        "          'min_sample_split': 50,\n",
        "          'min_child_weight': 1,\n",
        "          'reg_lambda': 1,\n",
        "          'gamma': 0.1,\n",
        "          'eval_metric': \"error\",\n",
        "          'early_stopping_rounds': 20,\n",
        "          'maximize': False,\n",
        "          'num_thread':-1}"
      ],
      "execution_count": 0,
      "outputs": []
    },
    {
      "cell_type": "code",
      "metadata": {
        "id": "2Da0inS_LScX",
        "colab_type": "code",
        "colab": {
          "base_uri": "https://localhost:8080/",
          "height": 884
        },
        "outputId": "d6d9d98d-4d7b-4aa0-c4b2-7ece916392d5"
      },
      "source": [
        "bmb = TGBoost()\n",
        "bmb.fit(train_X,train_y,**params_bmb)"
      ],
      "execution_count": 79,
      "outputs": [
        {
          "output_type": "stream",
          "text": [
            "[22:31:33] : TGBoost start training\n",
            "[22:31:35] : TGBoost round 0, train-error: 0.0527\n",
            "[22:31:37] : TGBoost round 1, train-error: 0.0527\n",
            "[22:31:39] : TGBoost round 2, train-error: 0.0330\n",
            "[22:31:41] : TGBoost round 3, train-error: 0.0308\n",
            "[22:31:43] : TGBoost round 4, train-error: 0.0330\n",
            "[22:31:44] : TGBoost round 5, train-error: 0.0286\n",
            "[22:31:46] : TGBoost round 6, train-error: 0.0286\n",
            "[22:31:48] : TGBoost round 7, train-error: 0.0198\n",
            "[22:31:50] : TGBoost round 8, train-error: 0.0220\n",
            "[22:31:52] : TGBoost round 9, train-error: 0.0242\n",
            "[22:31:53] : TGBoost round 10, train-error: 0.0220\n",
            "[22:31:55] : TGBoost round 11, train-error: 0.0286\n",
            "[22:31:57] : TGBoost round 12, train-error: 0.0176\n",
            "[22:31:59] : TGBoost round 13, train-error: 0.0154\n",
            "[22:32:00] : TGBoost round 14, train-error: 0.0132\n",
            "[22:32:02] : TGBoost round 15, train-error: 0.0132\n",
            "[22:32:04] : TGBoost round 16, train-error: 0.0132\n",
            "[22:32:06] : TGBoost round 17, train-error: 0.0132\n",
            "[22:32:08] : TGBoost round 18, train-error: 0.0132\n",
            "[22:32:10] : TGBoost round 19, train-error: 0.0132\n",
            "[22:32:11] : TGBoost round 20, train-error: 0.0132\n",
            "[22:32:13] : TGBoost round 21, train-error: 0.0110\n",
            "[22:32:14] : TGBoost round 22, train-error: 0.0110\n",
            "[22:32:16] : TGBoost round 23, train-error: 0.0132\n",
            "[22:32:18] : TGBoost round 24, train-error: 0.0110\n",
            "[22:32:20] : TGBoost round 25, train-error: 0.0154\n",
            "[22:32:22] : TGBoost round 26, train-error: 0.0110\n",
            "[22:32:23] : TGBoost round 27, train-error: 0.0110\n",
            "[22:32:25] : TGBoost round 28, train-error: 0.0110\n",
            "[22:32:27] : TGBoost round 29, train-error: 0.0132\n",
            "[22:32:29] : TGBoost round 30, train-error: 0.0154\n",
            "[22:32:30] : TGBoost round 31, train-error: 0.0132\n",
            "[22:32:32] : TGBoost round 32, train-error: 0.0132\n",
            "[22:32:33] : TGBoost round 33, train-error: 0.0132\n",
            "[22:32:35] : TGBoost round 34, train-error: 0.0132\n",
            "[22:32:37] : TGBoost round 35, train-error: 0.0132\n",
            "[22:32:38] : TGBoost round 36, train-error: 0.0132\n",
            "[22:32:40] : TGBoost round 37, train-error: 0.0132\n",
            "[22:32:42] : TGBoost round 38, train-error: 0.0132\n",
            "[22:32:44] : TGBoost round 39, train-error: 0.0132\n",
            "[22:32:45] : TGBoost round 40, train-error: 0.0132\n",
            "[22:32:47] : TGBoost round 41, train-error: 0.0132\n",
            "[22:32:49] : TGBoost round 42, train-error: 0.0132\n",
            "[22:32:51] : TGBoost round 43, train-error: 0.0132\n",
            "[22:32:53] : TGBoost round 44, train-error: 0.0110\n",
            "[22:32:54] : TGBoost round 45, train-error: 0.0110\n",
            "[22:32:56] : TGBoost round 46, train-error: 0.0110\n",
            "[22:32:58] : TGBoost round 47, train-error: 0.0110\n",
            "[22:33:00] : TGBoost round 48, train-error: 0.0110\n",
            "[22:33:01] : TGBoost round 49, train-error: 0.0110\n"
          ],
          "name": "stderr"
        }
      ]
    },
    {
      "cell_type": "code",
      "metadata": {
        "id": "lrCI3-egnI9I",
        "colab_type": "code",
        "colab": {}
      },
      "source": [
        "predict_tgb = bmb.predict(val_X)"
      ],
      "execution_count": 0,
      "outputs": []
    },
    {
      "cell_type": "code",
      "metadata": {
        "id": "uVMPAKs1rYZQ",
        "colab_type": "code",
        "colab": {
          "base_uri": "https://localhost:8080/",
          "height": 34
        },
        "outputId": "c80c1260-9df2-41e4-90df-e15cd41d801b"
      },
      "source": [
        "f1_score(val_y, np.round(predict_xgb))"
      ],
      "execution_count": 81,
      "outputs": [
        {
          "output_type": "execute_result",
          "data": {
            "text/plain": [
              "0.9590643274853801"
            ]
          },
          "metadata": {
            "tags": []
          },
          "execution_count": 81
        }
      ]
    },
    {
      "cell_type": "code",
      "metadata": {
        "id": "aXifRfDrropG",
        "colab_type": "code",
        "colab": {
          "base_uri": "https://localhost:8080/",
          "height": 34
        },
        "outputId": "fd9f9939-714a-4692-ace7-e90482578d33"
      },
      "source": [
        "f1_score(val_y, np.round(predict_tgb))"
      ],
      "execution_count": 82,
      "outputs": [
        {
          "output_type": "execute_result",
          "data": {
            "text/plain": [
              "0.9826589595375723"
            ]
          },
          "metadata": {
            "tags": []
          },
          "execution_count": 82
        }
      ]
    }
  ]
}